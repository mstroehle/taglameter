{
 "cells": [
  {
   "cell_type": "code",
   "execution_count": 1,
   "metadata": {},
   "outputs": [],
   "source": [
    "import numpy as np"
   ]
  },
  {
   "cell_type": "markdown",
   "metadata": {},
   "source": [
    "Lists containing the important information. \n",
    "* freq      : frequencies that worked with the calibration\n",
    "* left_val  : the values from `taglabration.py` used to arrive at specific dB SPL values\n",
    "* db_left   : the dB SPL values used to calibrate the audiometer\n",
    "* true_zero : true dB SPL values corresponding to 0 dB HL level at each of the `freq` frequencies\n",
    "* db_hl     : hearing level values used during audiometry"
   ]
  },
  {
   "cell_type": "code",
   "execution_count": 89,
   "metadata": {},
   "outputs": [],
   "source": [
    "freq = [.25, .5, 1, 2, 4, 8, 12.5, 14] * 1000\n",
    "left_val = np.array([0.00022, 0.007, 0.001, 0.0023, 0.005, 0.004, 0.169, 0.055])\n",
    "right_val = np.array([0.00022, 0.007, 0.001, 0.0023, 0.005, 0.0045, 0.049, 0.0355])\n",
    "db_left = np.array([31.55, 35.7, 36.5, 36.8, 34, 38.3, 39.5, 39.5])\n",
    "db_right = np.array([31.55, 35.7, 36.1, 36.0, 34.0, 38.6, 39.6, 39.5])\n",
    "true_zero = np.array([26.55, 15.66, 11.45, 16.83, 13.97, 18.44, 29.56, 39.44])\n",
    "db_hl = np.array([-10,  -5,   0,   5,  10,  15,  20,  25,  30,  35,  40,  45, 50,  55,  60,  65,  70,  75, 80])"
   ]
  },
  {
   "cell_type": "markdown",
   "metadata": {},
   "source": [
    "Functions to transform an arbitrary value to dB and vice versa."
   ]
  },
  {
   "cell_type": "code",
   "execution_count": 16,
   "metadata": {},
   "outputs": [],
   "source": [
    "def val2db(x, x0=1):\n",
    "    return 20 * np.log10(x/x0)\n",
    "\n",
    "def db2val(l, x0=1):\n",
    "    return x0 * 10 **(l/20.)"
   ]
  },
  {
   "cell_type": "markdown",
   "metadata": {},
   "source": [
    "Calculate the difference between true zero and what I measured."
   ]
  },
  {
   "cell_type": "code",
   "execution_count": 30,
   "metadata": {},
   "outputs": [],
   "source": [
    "diffdb_left = np.round(db_left - true_zero)\n",
    "diffdb_right = np.round(db_right - true_zero)\n",
    "\n",
    "truedb_left = db_left - diffdb_left\n",
    "truedb_right = db_right - diffdb_right"
   ]
  },
  {
   "cell_type": "markdown",
   "metadata": {},
   "source": [
    "Convert value to dB."
   ]
  },
  {
   "cell_type": "code",
   "execution_count": 40,
   "metadata": {},
   "outputs": [],
   "source": [
    "measured_db_left = val2db(left_val)\n",
    "zerodb_hl_left = measured_db_left - diffdb_left\n",
    "zeroval_hl_left = db2val(zerodb_hl_left)\n",
    "\n",
    "measured_db_right = val2db(right_val)\n",
    "zerodb_hl_right = measured_db_right - diffdb_right\n",
    "zeroval_hl_left = db2val(zerodb_hl_right)"
   ]
  },
  {
   "cell_type": "code",
   "execution_count": 42,
   "metadata": {},
   "outputs": [],
   "source": [
    "cal = np.load('/data/pt_neunmc024/audiometer/taglameter/calibration_left.npz')"
   ]
  },
  {
   "cell_type": "markdown",
   "metadata": {},
   "source": [
    "Just wondering what this file contains."
   ]
  },
  {
   "cell_type": "code",
   "execution_count": 88,
   "metadata": {},
   "outputs": [
    {
     "name": "stdout",
     "output_type": "stream",
     "text": [
      "[[0.9 0.9 0.9 0.9 0.9 0.9 0.9 0.9 0.9 0.9 0.9 0.9 0.9 0.9 0.9 0.9 0.9 0.9\n",
      "  0.9 0.9 0.9]\n",
      " [0.9 0.9 0.9 0.9 0.9 0.9 0.9 0.9 0.9 0.9 0.9 0.9 0.9 0.9 0.9 0.9 0.9 0.9\n",
      "  0.9 0.9 0.9]\n",
      " [0.9 0.9 0.9 0.9 0.9 0.9 0.9 0.9 0.9 0.9 0.9 0.9 0.9 0.9 0.9 0.9 0.9 0.9\n",
      "  0.9 0.9 0.9]\n",
      " [0.9 0.9 0.9 0.9 0.9 0.9 0.9 0.9 0.9 0.9 0.9 0.9 0.9 0.9 0.9 0.9 0.9 0.9\n",
      "  0.9 0.9 0.9]\n",
      " [0.9 0.9 0.9 0.9 0.9 0.9 0.9 0.9 0.9 0.9 0.9 0.9 0.9 0.9 0.9 0.9 0.9 0.9\n",
      "  0.9 0.9 0.9]\n",
      " [0.9 0.9 0.9 0.9 0.9 0.9 0.9 0.9 0.9 0.9 0.9 0.9 0.9 0.9 0.9 0.9 0.9 0.9\n",
      "  0.9 0.9 0.9]\n",
      " [0.9 0.9 0.9 0.9 0.9 0.9 0.9 0.9 0.9 0.9 0.9 0.9 0.9 0.9 0.9 0.9 0.9 0.9\n",
      "  0.9 0.9 0.9]\n",
      " [0.9 0.9 0.9 0.9 0.9 0.9 0.9 0.9 0.9 0.9 0.9 0.9 0.9 0.9 0.9 0.9 0.9 0.9\n",
      "  0.9 0.9 0.9]\n",
      " [0.9 0.9 0.9 0.9 0.9 0.9 0.9 0.9 0.9 0.9 0.9 0.9 0.9 0.9 0.9 0.9 0.9 0.9\n",
      "  0.9 0.9 0.9]\n",
      " [0.9 0.9 0.9 0.9 0.9 0.9 0.9 0.9 0.9 0.9 0.9 0.9 0.9 0.9 0.9 0.9 0.9 0.9\n",
      "  0.9 0.9 0.9]\n",
      " [0.9 0.9 0.9 0.9 0.9 0.9 0.9 0.9 0.9 0.9 0.9 0.9 0.9 0.9 0.9 0.9 0.9 0.9\n",
      "  0.9 0.9 0.9]\n",
      " [0.9 0.9 0.9 0.9 0.9 0.9 0.9 0.9 0.9 0.9 0.9 0.9 0.9 0.9 0.9 0.9 0.9 0.9\n",
      "  0.9 0.9 0.9]\n",
      " [0.9 0.9 0.9 0.9 0.9 0.9 0.9 0.9 0.9 0.9 0.9 0.9 0.9 0.9 0.9 0.9 0.9 0.9\n",
      "  0.9 0.9 0.9]\n",
      " [0.9 0.9 0.9 0.9 0.9 0.9 0.9 0.9 0.9 0.9 0.9 0.9 0.9 0.9 0.9 0.9 0.9 0.9\n",
      "  0.9 0.9 0.9]\n",
      " [0.9 0.9 0.9 0.9 0.9 0.9 0.9 0.9 0.9 0.9 0.9 0.9 0.9 0.9 0.9 0.9 0.9 0.9\n",
      "  0.9 0.9 0.9]] [-10  -5   0   5  10  15  20  25  30  35  40  45  50  55  60  65  70  75\n",
      "  80  85  90] [  250.   500.  1000.  1500.  2000.  3000.  4000.  6000.  8000. 10000.\n",
      " 12000. 14000. 16000. 18000. 20000.]\n"
     ]
    }
   ],
   "source": [
    "print(cal['A0'], cal['LOUD'], cal['FREQ'])"
   ]
  },
  {
   "cell_type": "markdown",
   "metadata": {},
   "source": [
    "Create list of lists with different values corresponding to those of `db_hl` for each frequency."
   ]
  },
  {
   "cell_type": "code",
   "execution_count": 128,
   "metadata": {},
   "outputs": [],
   "source": [
    "db_left = []\n",
    "db_right = []\n",
    "new_val_left = []\n",
    "new_val_right = []\n",
    "for x, idb in enumerate(zerodb_hl_left):\n",
    "    new_db = db_hl + idb\n",
    "    new_val = db2val(new_db)\n",
    "    new_val = [x for x in new_val if x < 1]\n",
    "    new_val_left.append(new_val)\n",
    "    db_left.append(db_hl[:len(new_val)])\n",
    "        \n",
    "    new_db = db_hl + zerodb_hl_right[x]\n",
    "    new_val = db2val(new_db)\n",
    "    new_val = [x for x in new_val if x < 1]\n",
    "    new_val_right.append(new_val)\n",
    "    db_right.append(db_hl[:len(new_val)])"
   ]
  },
  {
   "cell_type": "code",
   "execution_count": 123,
   "metadata": {},
   "outputs": [
    {
     "data": {
      "text/plain": [
       "[18, 15, 19, 17, 16, 16, 10, 8]"
      ]
     },
     "execution_count": 123,
     "metadata": {},
     "output_type": "execute_result"
    }
   ],
   "source": [
    "[len(x) for x in new_val_right]"
   ]
  },
  {
   "cell_type": "code",
   "execution_count": 111,
   "metadata": {},
   "outputs": [],
   "source": [
    "np.savez('calibration_left', A0 = new_val_left, FREQ = freq, LOUD = new_db_left, FS = 44100)\n",
    "np.savez('calibration_right', A0 = new_val_right, FREQ = freq, LOUD = new_db_right, FS = 44100)"
   ]
  }
 ],
 "metadata": {
  "kernelspec": {
   "display_name": "Python 3",
   "language": "python",
   "name": "python3"
  },
  "language_info": {
   "codemirror_mode": {
    "name": "ipython",
    "version": 3
   },
   "file_extension": ".py",
   "mimetype": "text/x-python",
   "name": "python",
   "nbconvert_exporter": "python",
   "pygments_lexer": "ipython3",
   "version": "3.6.1"
  }
 },
 "nbformat": 4,
 "nbformat_minor": 2
}
